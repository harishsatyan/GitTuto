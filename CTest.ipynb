{
 "cells": [
  {
   "cell_type": "code",
   "execution_count": 0,
   "metadata": {
    "application/vnd.databricks.v1+cell": {
     "cellMetadata": {
      "byteLimit": 2048000,
      "rowLimit": 10000
     },
     "inputWidgets": {},
     "nuid": "ed8ecf1d-205d-4708-8734-4693e9196d7a",
     "showTitle": false,
     "tableResultSettingsMap": {},
     "title": ""
    }
   },
   "outputs": [],
   "source": [
    "dbutils.widgets.get(\"incremental_flag\")"
   ]
  },
  {
   "cell_type": "code",
   "execution_count": 0,
   "metadata": {
    "application/vnd.databricks.v1+cell": {
     "cellMetadata": {
      "byteLimit": 2048000,
      "rowLimit": 10000
     },
     "inputWidgets": {},
     "nuid": "9f361670-d91a-4bd8-a8d4-bc9596e71f62",
     "showTitle": false,
     "tableResultSettingsMap": {},
     "title": ""
    }
   },
   "outputs": [],
   "source": [
    "dbutils.widgets.text(\"incremental_flag\", \"0\", \"incremental_flag\")"
   ]
  },
  {
   "cell_type": "code",
   "execution_count": 0,
   "metadata": {
    "application/vnd.databricks.v1+cell": {
     "cellMetadata": {
      "byteLimit": 2048000,
      "rowLimit": 10000
     },
     "inputWidgets": {},
     "nuid": "9c75131c-8005-4d5a-a994-79a0693e39be",
     "showTitle": false,
     "tableResultSettingsMap": {},
     "title": ""
    }
   },
   "outputs": [],
   "source": [
    "dbutils.widgets.dropdown(\"name\", \"a\", \"a,b,c,d\", \"label\")"
   ]
  },
  {
   "cell_type": "code",
   "execution_count": 0,
   "metadata": {
    "application/vnd.databricks.v1+cell": {
     "cellMetadata": {
      "byteLimit": 2048000,
      "rowLimit": 10000
     },
     "inputWidgets": {},
     "nuid": "6021bfa8-4df9-4a74-bfa3-599548e286b6",
     "showTitle": false,
     "tableResultSettingsMap": {},
     "title": ""
    }
   },
   "outputs": [],
   "source": [
    "dbutils.widgets.combobox(\"get\", \"a\", \"a,b,c,d\", \"label\")"
   ]
  }
 ],
 "metadata": {
  "application/vnd.databricks.v1+notebook": {
   "computePreferences": null,
   "dashboards": [],
   "environmentMetadata": {
    "base_environment": "",
    "environment_version": "2"
   },
   "inputWidgetPreferences": null,
   "language": "python",
   "notebookMetadata": {
    "pythonIndentUnit": 4
   },
   "notebookName": "CTest",
   "widgets": {
    "get": {
     "currentValue": "",
     "nuid": "2d8f5189-28b3-44cc-b27f-77509a919dc4",
     "typedWidgetInfo": {
      "autoCreated": false,
      "defaultValue": "a",
      "label": "label",
      "name": "get",
      "options": {
       "widgetDisplayType": "Dropdown",
       "choices": [
        "a",
        ",",
        "b",
        ",",
        "c",
        ",",
        "d"
       ],
       "fixedDomain": false,
       "multiselect": false
      },
      "parameterDataType": "String"
     },
     "widgetInfo": {
      "widgetType": "combobox",
      "defaultValue": "a",
      "label": "label",
      "name": "get",
      "options": {
       "widgetType": "dropdown",
       "autoCreated": false,
       "choices": [
        "a",
        ",",
        "b",
        ",",
        "c",
        ",",
        "d"
       ]
      }
     }
    },
    "incremental_flag": {
     "currentValue": "0",
     "nuid": "6660797a-48c1-4cdc-89d5-67202a7a1f0a",
     "typedWidgetInfo": {
      "autoCreated": false,
      "defaultValue": "0",
      "label": "incremental_flag",
      "name": "incremental_flag",
      "options": {
       "widgetDisplayType": "Text",
       "validationRegex": null
      },
      "parameterDataType": "String"
     },
     "widgetInfo": {
      "widgetType": "text",
      "defaultValue": "0",
      "label": "incremental_flag",
      "name": "incremental_flag",
      "options": {
       "widgetType": "text",
       "autoCreated": false,
       "validationRegex": null
      }
     }
    },
    "name": {
     "currentValue": "d",
     "nuid": "09f6edbf-a79d-4660-a994-d183859eaafd",
     "typedWidgetInfo": {
      "autoCreated": false,
      "defaultValue": "a",
      "label": "label",
      "name": "name",
      "options": {
       "widgetDisplayType": "Dropdown",
       "choices": [
        "a",
        ",",
        "b",
        ",",
        "c",
        ",",
        "d"
       ],
       "fixedDomain": false,
       "multiselect": false
      },
      "parameterDataType": "String"
     },
     "widgetInfo": {
      "widgetType": "combobox",
      "defaultValue": "a",
      "label": "label",
      "name": "name",
      "options": {
       "widgetType": "dropdown",
       "autoCreated": null,
       "choices": [
        "a",
        ",",
        "b",
        ",",
        "c",
        ",",
        "d"
       ]
      }
     }
    }
   }
  },
  "language_info": {
   "name": "python"
  }
 },
 "nbformat": 4,
 "nbformat_minor": 0
}
